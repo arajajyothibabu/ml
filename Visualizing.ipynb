{
 "cells": [
  {
   "cell_type": "markdown",
   "metadata": {},
   "source": [
    "#### Visualizing a Decision Tree\n",
    "\n",
    "> Importing Data"
   ]
  },
  {
   "cell_type": "code",
   "execution_count": 58,
   "metadata": {},
   "outputs": [
    {
     "name": "stdout",
     "output_type": "stream",
     "text": [
      "['sepal length (cm)', 'sepal width (cm)', 'petal length (cm)', 'petal width (cm)']\n",
      "Features: 0 \t [ 5.1  3.5  1.4  0.2] \t 0\n",
      "Features: 1 \t [ 4.9  3.   1.4  0.2] \t 0\n",
      "Features: 2 \t [ 4.7  3.2  1.3  0.2] \t 0\n",
      "Features: 3 \t [ 4.6  3.1  1.5  0.2] \t 0\n",
      "Features: 4 \t [ 5.   3.6  1.4  0.2] \t 0\n",
      "Features: 5 \t [ 5.4  3.9  1.7  0.4] \t 0\n",
      "Features: 6 \t [ 4.6  3.4  1.4  0.3] \t 0\n",
      "Features: 7 \t [ 5.   3.4  1.5  0.2] \t 0\n",
      "Features: 8 \t [ 4.4  2.9  1.4  0.2] \t 0\n",
      "Features: 9 \t [ 4.9  3.1  1.5  0.1] \t 0\n",
      "Features: 10 \t [ 5.4  3.7  1.5  0.2] \t 0\n",
      "Features: 11 \t [ 4.8  3.4  1.6  0.2] \t 0\n",
      "Features: 12 \t [ 4.8  3.   1.4  0.1] \t 0\n",
      "Features: 13 \t [ 4.3  3.   1.1  0.1] \t 0\n",
      "Features: 14 \t [ 5.8  4.   1.2  0.2] \t 0\n",
      "Features: 15 \t [ 5.7  4.4  1.5  0.4] \t 0\n",
      "Features: 16 \t [ 5.4  3.9  1.3  0.4] \t 0\n",
      "Features: 17 \t [ 5.1  3.5  1.4  0.3] \t 0\n",
      "Features: 18 \t [ 5.7  3.8  1.7  0.3] \t 0\n",
      "Features: 19 \t [ 5.1  3.8  1.5  0.3] \t 0\n",
      "Features: 20 \t [ 5.4  3.4  1.7  0.2] \t 0\n",
      "Features: 21 \t [ 5.1  3.7  1.5  0.4] \t 0\n",
      "Features: 22 \t [ 4.6  3.6  1.   0.2] \t 0\n",
      "Features: 23 \t [ 5.1  3.3  1.7  0.5] \t 0\n",
      "Features: 24 \t [ 4.8  3.4  1.9  0.2] \t 0\n",
      "Features: 25 \t [ 5.   3.   1.6  0.2] \t 0\n",
      "Features: 26 \t [ 5.   3.4  1.6  0.4] \t 0\n",
      "Features: 27 \t [ 5.2  3.5  1.5  0.2] \t 0\n",
      "Features: 28 \t [ 5.2  3.4  1.4  0.2] \t 0\n",
      "Features: 29 \t [ 4.7  3.2  1.6  0.2] \t 0\n",
      "Features: 30 \t [ 4.8  3.1  1.6  0.2] \t 0\n",
      "Features: 31 \t [ 5.4  3.4  1.5  0.4] \t 0\n",
      "Features: 32 \t [ 5.2  4.1  1.5  0.1] \t 0\n",
      "Features: 33 \t [ 5.5  4.2  1.4  0.2] \t 0\n",
      "Features: 34 \t [ 4.9  3.1  1.5  0.1] \t 0\n",
      "Features: 35 \t [ 5.   3.2  1.2  0.2] \t 0\n",
      "Features: 36 \t [ 5.5  3.5  1.3  0.2] \t 0\n",
      "Features: 37 \t [ 4.9  3.1  1.5  0.1] \t 0\n",
      "Features: 38 \t [ 4.4  3.   1.3  0.2] \t 0\n",
      "Features: 39 \t [ 5.1  3.4  1.5  0.2] \t 0\n",
      "Features: 40 \t [ 5.   3.5  1.3  0.3] \t 0\n",
      "Features: 41 \t [ 4.5  2.3  1.3  0.3] \t 0\n",
      "Features: 42 \t [ 4.4  3.2  1.3  0.2] \t 0\n",
      "Features: 43 \t [ 5.   3.5  1.6  0.6] \t 0\n",
      "Features: 44 \t [ 5.1  3.8  1.9  0.4] \t 0\n",
      "Features: 45 \t [ 4.8  3.   1.4  0.3] \t 0\n",
      "Features: 46 \t [ 5.1  3.8  1.6  0.2] \t 0\n",
      "Features: 47 \t [ 4.6  3.2  1.4  0.2] \t 0\n",
      "Features: 48 \t [ 5.3  3.7  1.5  0.2] \t 0\n",
      "Features: 49 \t [ 5.   3.3  1.4  0.2] \t 0\n",
      "Features: 50 \t [ 7.   3.2  4.7  1.4] \t 1\n",
      "Features: 51 \t [ 6.4  3.2  4.5  1.5] \t 1\n",
      "Features: 52 \t [ 6.9  3.1  4.9  1.5] \t 1\n",
      "Features: 53 \t [ 5.5  2.3  4.   1.3] \t 1\n",
      "Features: 54 \t [ 6.5  2.8  4.6  1.5] \t 1\n",
      "Features: 55 \t [ 5.7  2.8  4.5  1.3] \t 1\n",
      "Features: 56 \t [ 6.3  3.3  4.7  1.6] \t 1\n",
      "Features: 57 \t [ 4.9  2.4  3.3  1. ] \t 1\n",
      "Features: 58 \t [ 6.6  2.9  4.6  1.3] \t 1\n",
      "Features: 59 \t [ 5.2  2.7  3.9  1.4] \t 1\n",
      "Features: 60 \t [ 5.   2.   3.5  1. ] \t 1\n",
      "Features: 61 \t [ 5.9  3.   4.2  1.5] \t 1\n",
      "Features: 62 \t [ 6.   2.2  4.   1. ] \t 1\n",
      "Features: 63 \t [ 6.1  2.9  4.7  1.4] \t 1\n",
      "Features: 64 \t [ 5.6  2.9  3.6  1.3] \t 1\n",
      "Features: 65 \t [ 6.7  3.1  4.4  1.4] \t 1\n",
      "Features: 66 \t [ 5.6  3.   4.5  1.5] \t 1\n",
      "Features: 67 \t [ 5.8  2.7  4.1  1. ] \t 1\n",
      "Features: 68 \t [ 6.2  2.2  4.5  1.5] \t 1\n",
      "Features: 69 \t [ 5.6  2.5  3.9  1.1] \t 1\n",
      "Features: 70 \t [ 5.9  3.2  4.8  1.8] \t 1\n",
      "Features: 71 \t [ 6.1  2.8  4.   1.3] \t 1\n",
      "Features: 72 \t [ 6.3  2.5  4.9  1.5] \t 1\n",
      "Features: 73 \t [ 6.1  2.8  4.7  1.2] \t 1\n",
      "Features: 74 \t [ 6.4  2.9  4.3  1.3] \t 1\n",
      "Features: 75 \t [ 6.6  3.   4.4  1.4] \t 1\n",
      "Features: 76 \t [ 6.8  2.8  4.8  1.4] \t 1\n",
      "Features: 77 \t [ 6.7  3.   5.   1.7] \t 1\n",
      "Features: 78 \t [ 6.   2.9  4.5  1.5] \t 1\n",
      "Features: 79 \t [ 5.7  2.6  3.5  1. ] \t 1\n",
      "Features: 80 \t [ 5.5  2.4  3.8  1.1] \t 1\n",
      "Features: 81 \t [ 5.5  2.4  3.7  1. ] \t 1\n",
      "Features: 82 \t [ 5.8  2.7  3.9  1.2] \t 1\n",
      "Features: 83 \t [ 6.   2.7  5.1  1.6] \t 1\n",
      "Features: 84 \t [ 5.4  3.   4.5  1.5] \t 1\n",
      "Features: 85 \t [ 6.   3.4  4.5  1.6] \t 1\n",
      "Features: 86 \t [ 6.7  3.1  4.7  1.5] \t 1\n",
      "Features: 87 \t [ 6.3  2.3  4.4  1.3] \t 1\n",
      "Features: 88 \t [ 5.6  3.   4.1  1.3] \t 1\n",
      "Features: 89 \t [ 5.5  2.5  4.   1.3] \t 1\n",
      "Features: 90 \t [ 5.5  2.6  4.4  1.2] \t 1\n",
      "Features: 91 \t [ 6.1  3.   4.6  1.4] \t 1\n",
      "Features: 92 \t [ 5.8  2.6  4.   1.2] \t 1\n",
      "Features: 93 \t [ 5.   2.3  3.3  1. ] \t 1\n",
      "Features: 94 \t [ 5.6  2.7  4.2  1.3] \t 1\n",
      "Features: 95 \t [ 5.7  3.   4.2  1.2] \t 1\n",
      "Features: 96 \t [ 5.7  2.9  4.2  1.3] \t 1\n",
      "Features: 97 \t [ 6.2  2.9  4.3  1.3] \t 1\n",
      "Features: 98 \t [ 5.1  2.5  3.   1.1] \t 1\n",
      "Features: 99 \t [ 5.7  2.8  4.1  1.3] \t 1\n",
      "Features: 100 \t [ 6.3  3.3  6.   2.5] \t 2\n",
      "Features: 101 \t [ 5.8  2.7  5.1  1.9] \t 2\n",
      "Features: 102 \t [ 7.1  3.   5.9  2.1] \t 2\n",
      "Features: 103 \t [ 6.3  2.9  5.6  1.8] \t 2\n",
      "Features: 104 \t [ 6.5  3.   5.8  2.2] \t 2\n",
      "Features: 105 \t [ 7.6  3.   6.6  2.1] \t 2\n",
      "Features: 106 \t [ 4.9  2.5  4.5  1.7] \t 2\n",
      "Features: 107 \t [ 7.3  2.9  6.3  1.8] \t 2\n",
      "Features: 108 \t [ 6.7  2.5  5.8  1.8] \t 2\n",
      "Features: 109 \t [ 7.2  3.6  6.1  2.5] \t 2\n",
      "Features: 110 \t [ 6.5  3.2  5.1  2. ] \t 2\n",
      "Features: 111 \t [ 6.4  2.7  5.3  1.9] \t 2\n",
      "Features: 112 \t [ 6.8  3.   5.5  2.1] \t 2\n",
      "Features: 113 \t [ 5.7  2.5  5.   2. ] \t 2\n",
      "Features: 114 \t [ 5.8  2.8  5.1  2.4] \t 2\n",
      "Features: 115 \t [ 6.4  3.2  5.3  2.3] \t 2\n",
      "Features: 116 \t [ 6.5  3.   5.5  1.8] \t 2\n",
      "Features: 117 \t [ 7.7  3.8  6.7  2.2] \t 2\n",
      "Features: 118 \t [ 7.7  2.6  6.9  2.3] \t 2\n",
      "Features: 119 \t [ 6.   2.2  5.   1.5] \t 2\n",
      "Features: 120 \t [ 6.9  3.2  5.7  2.3] \t 2\n",
      "Features: 121 \t [ 5.6  2.8  4.9  2. ] \t 2\n",
      "Features: 122 \t [ 7.7  2.8  6.7  2. ] \t 2\n",
      "Features: 123 \t [ 6.3  2.7  4.9  1.8] \t 2\n",
      "Features: 124 \t [ 6.7  3.3  5.7  2.1] \t 2\n",
      "Features: 125 \t [ 7.2  3.2  6.   1.8] \t 2\n",
      "Features: 126 \t [ 6.2  2.8  4.8  1.8] \t 2\n",
      "Features: 127 \t [ 6.1  3.   4.9  1.8] \t 2\n",
      "Features: 128 \t [ 6.4  2.8  5.6  2.1] \t 2\n",
      "Features: 129 \t [ 7.2  3.   5.8  1.6] \t 2\n",
      "Features: 130 \t [ 7.4  2.8  6.1  1.9] \t 2\n",
      "Features: 131 \t [ 7.9  3.8  6.4  2. ] \t 2\n",
      "Features: 132 \t [ 6.4  2.8  5.6  2.2] \t 2\n",
      "Features: 133 \t [ 6.3  2.8  5.1  1.5] \t 2\n",
      "Features: 134 \t [ 6.1  2.6  5.6  1.4] \t 2\n",
      "Features: 135 \t [ 7.7  3.   6.1  2.3] \t 2\n",
      "Features: 136 \t [ 6.3  3.4  5.6  2.4] \t 2\n",
      "Features: 137 \t [ 6.4  3.1  5.5  1.8] \t 2\n",
      "Features: 138 \t [ 6.   3.   4.8  1.8] \t 2\n",
      "Features: 139 \t [ 6.9  3.1  5.4  2.1] \t 2\n",
      "Features: 140 \t [ 6.7  3.1  5.6  2.4] \t 2\n",
      "Features: 141 \t [ 6.9  3.1  5.1  2.3] \t 2\n",
      "Features: 142 \t [ 5.8  2.7  5.1  1.9] \t 2\n",
      "Features: 143 \t [ 6.8  3.2  5.9  2.3] \t 2\n",
      "Features: 144 \t [ 6.7  3.3  5.7  2.5] \t 2\n",
      "Features: 145 \t [ 6.7  3.   5.2  2.3] \t 2\n",
      "Features: 146 \t [ 6.3  2.5  5.   1.9] \t 2\n",
      "Features: 147 \t [ 6.5  3.   5.2  2. ] \t 2\n",
      "Features: 148 \t [ 6.2  3.4  5.4  2.3] \t 2\n",
      "Features: 149 \t [ 5.9  3.   5.1  1.8] \t 2\n"
     ]
    }
   ],
   "source": [
    "import numpy as np\n",
    "from sklearn.datasets import load_iris\n",
    "from sklearn import tree\n",
    "from sklearn.externals.six import StringIO\n",
    "import pydot\n",
    "iris = load_iris()\n",
    "print iris.feature_names\n",
    "#print iris.target_names\n",
    "#print iris.data[0]\n",
    "#print iris.target[0]\n",
    "for i in range(len(iris.target)):\n",
    "    print \"Features: %d \\t %s \\t %s\" % (i, iris.data[i], iris.target[i])"
   ]
  },
  {
   "cell_type": "markdown",
   "metadata": {},
   "source": [
    "> Training a Classifier\n",
    "  - Need test data to test accuracy of classifier"
   ]
  },
  {
   "cell_type": "code",
   "execution_count": 59,
   "metadata": {},
   "outputs": [
    {
     "name": "stdout",
     "output_type": "stream",
     "text": [
      "[0 1 2]\n",
      "[0 1 2]\n"
     ]
    }
   ],
   "source": [
    "test_idx = [0, 50, 100]\n",
    "\n",
    "# training data\n",
    "train_target = np.delete(iris.target, test_idx)\n",
    "train_data = np.delete(iris.data, test_idx, axis = 0)\n",
    "\n",
    "# testing data\n",
    "test_target = iris.target[test_idx]\n",
    "test_data = iris.data[test_idx]\n",
    "\n",
    "clf = tree.DecisionTreeClassifier()\n",
    "clf.fit(train_data, train_target)\n",
    "\n",
    "print test_target\n",
    "print clf.predict(test_data)"
   ]
  },
  {
   "cell_type": "markdown",
   "metadata": {},
   "source": [
    "> Predict Label for New flower\n",
    "\n",
    "- Write to PDF"
   ]
  },
  {
   "cell_type": "code",
   "execution_count": 60,
   "metadata": {},
   "outputs": [
    {
     "name": "stdout",
     "output_type": "stream",
     "text": [
      "[ 5.1  3.5  1.4  0.2] 0\n",
      "['sepal length (cm)', 'sepal width (cm)', 'petal length (cm)', 'petal width (cm)'] ['setosa' 'versicolor' 'virginica']\n"
     ]
    }
   ],
   "source": [
    "dot_data = StringIO()\n",
    "tree.export_graphviz(clf, out_file=dot_data, \n",
    "                         feature_names=iris.feature_names,  \n",
    "                         class_names=iris.target_names,  \n",
    "                         filled=True, rounded=True,  \n",
    "                         impurity=False)\n",
    "graph = pydot.graph_from_dot_data(dot_data.getvalue())\n",
    "graph[0].write_pdf(\"iris.pdf\")\n",
    "\n",
    "print test_data[0], test_target[0]\n",
    "\n",
    "print iris.feature_names, iris.target_names"
   ]
  },
  {
   "cell_type": "code",
   "execution_count": null,
   "metadata": {
    "collapsed": true
   },
   "outputs": [],
   "source": []
  }
 ],
 "metadata": {
  "kernelspec": {
   "display_name": "Python 2",
   "language": "python",
   "name": "python2"
  },
  "language_info": {
   "codemirror_mode": {
    "name": "ipython",
    "version": 2
   },
   "file_extension": ".py",
   "mimetype": "text/x-python",
   "name": "python",
   "nbconvert_exporter": "python",
   "pygments_lexer": "ipython2",
   "version": "2.7.12"
  }
 },
 "nbformat": 4,
 "nbformat_minor": 2
}
