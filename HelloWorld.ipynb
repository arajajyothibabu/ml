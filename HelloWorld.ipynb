{
 "cells": [
  {
   "cell_type": "markdown",
   "metadata": {},
   "source": [
    "# Supervised Learning Recipie\n",
    "\n",
    "Collect Training Data --> Train Classifier --> Make Predictions"
   ]
  },
  {
   "cell_type": "markdown",
   "metadata": {},
   "source": [
    "---\n",
    "#### Decision Tree Classifier\n",
    "---"
   ]
  },
  {
   "cell_type": "code",
   "execution_count": 6,
   "metadata": {},
   "outputs": [
    {
     "name": "stdout",
     "output_type": "stream",
     "text": [
      "[1]\n"
     ]
    }
   ],
   "source": [
    "from sklearn import tree\n",
    "features = [ [140, 1], [130, 1], [150, 0], [170, 0] ]\n",
    "labels = [0, 0, 1, 1]\n",
    "#creating Decision Tree Classifier\n",
    "clf = tree.DecisionTreeClassifier()\n",
    "#finding patterns in data\n",
    "clf = clf.fit(features, labels)\n",
    "print clf.predict([[150, 0]])"
   ]
  },
  {
   "cell_type": "code",
   "execution_count": 7,
   "metadata": {},
   "outputs": [
    {
     "name": "stdout",
     "output_type": "stream",
     "text": [
      "[1]\n"
     ]
    }
   ],
   "source": [
    "from sklearn import tree\n",
    "features = [ [300, 2, 0], [450, 2, 0], [200, 8, 1], [150, 9, 1] ]\n",
    "labels = [0, 0, 1, 1]\n",
    "#creating Decision Tree Classifier\n",
    "clf = tree.DecisionTreeClassifier()\n",
    "#finding patterns in data\n",
    "clf = clf.fit(features, labels)\n",
    "print clf.predict([[200, 3, 1]])"
   ]
  }
 ],
 "metadata": {
  "kernelspec": {
   "display_name": "Python 2",
   "language": "python",
   "name": "python2"
  },
  "language_info": {
   "codemirror_mode": {
    "name": "ipython",
    "version": 2
   },
   "file_extension": ".py",
   "mimetype": "text/x-python",
   "name": "python",
   "nbconvert_exporter": "python",
   "pygments_lexer": "ipython2",
   "version": "2.7.12"
  }
 },
 "nbformat": 4,
 "nbformat_minor": 2
}
